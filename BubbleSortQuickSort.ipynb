{
  "nbformat": 4,
  "nbformat_minor": 0,
  "metadata": {
    "colab": {
      "provenance": [],
      "authorship_tag": "ABX9TyM0faAl2jJz3Xzdz7OQoWRj",
      "include_colab_link": true
    },
    "kernelspec": {
      "name": "python3",
      "display_name": "Python 3"
    },
    "language_info": {
      "name": "python"
    }
  },
  "cells": [
    {
      "cell_type": "markdown",
      "metadata": {
        "id": "view-in-github",
        "colab_type": "text"
      },
      "source": [
        "<a href=\"https://colab.research.google.com/github/khyati0812/DSACodebasics/blob/main/BubbleSortQuickSort.ipynb\" target=\"_parent\"><img src=\"https://colab.research.google.com/assets/colab-badge.svg\" alt=\"Open In Colab\"/></a>"
      ]
    },
    {
      "cell_type": "code",
      "execution_count": null,
      "metadata": {
        "id": "9qw9tKVQZA7w"
      },
      "outputs": [],
      "source": [
        "numbers = [1,4,6,9,11,15,15,15,17,21,34,34,56]\n",
        "number_to_find = 15"
      ]
    },
    {
      "cell_type": "code",
      "source": [
        "def firstOcc(numbers,number_to_find):\n",
        "  low=0\n",
        "  high=len(numbers)-1\n",
        "  ans=-1\n",
        "  while low<=high:\n",
        "    mid=(low+high)>>1\n",
        "    if numbers[mid]==number_to_find:\n",
        "      ans=mid\n",
        "      high=mid-1\n",
        "    elif numbers[mid]<number_to_find:\n",
        "      low=mid+1\n",
        "    else:\n",
        "      high=mid-1\n",
        "  return ans"
      ],
      "metadata": {
        "id": "ESP-7P0dZPHQ"
      },
      "execution_count": null,
      "outputs": []
    },
    {
      "cell_type": "code",
      "source": [
        "def lastOcc(numbers,number_to_find):\n",
        "  low=0\n",
        "  high=len(numbers)-1\n",
        "  ans=-1\n",
        "  while low<=high:\n",
        "    mid=(low+high)>>1\n",
        "    if numbers[mid]==number_to_find:\n",
        "      ans=mid\n",
        "      low=mid+1\n",
        "    elif numbers[mid]<number_to_find:\n",
        "      low=mid+1\n",
        "    else:\n",
        "      high=mid-1\n",
        "  return ans"
      ],
      "metadata": {
        "id": "2JrFBlrBaxXD"
      },
      "execution_count": null,
      "outputs": []
    },
    {
      "cell_type": "code",
      "source": [
        "firstOccurence=firstOcc(numbers=numbers,number_to_find=number_to_find)\n",
        "lastOccurence=lastOcc(numbers=numbers,number_to_find=number_to_find)\n",
        "st=[]\n",
        "for i in range(firstOccurence,lastOccurence+1):\n",
        "  st.append(i)\n",
        "st\n"
      ],
      "metadata": {
        "colab": {
          "base_uri": "https://localhost:8080/"
        },
        "id": "VIwxBeeVbEZF",
        "outputId": "975b522b-f846-4881-b58b-dabe58e9ba52"
      },
      "execution_count": null,
      "outputs": [
        {
          "output_type": "execute_result",
          "data": {
            "text/plain": [
              "[5, 6, 7]"
            ]
          },
          "metadata": {},
          "execution_count": 4
        }
      ]
    },
    {
      "cell_type": "code",
      "source": [
        "def bubble_sort(elements):\n",
        "    size = len(elements)\n",
        "\n",
        "    for i in range(size-1):\n",
        "        swapped = False\n",
        "        for j in range(size-1-i):\n",
        "            if elements[j] > elements[j+1]:\n",
        "                tmp = elements[j]\n",
        "                elements[j] = elements[j+1]\n",
        "                elements[j+1] = tmp\n",
        "                swapped = True\n",
        "\n",
        "        if not swapped:\n",
        "            break\n",
        "\n",
        "\n",
        "if __name__ == '__main__':\n",
        "    elements = [5,9,2,1,67,34,88,34]\n",
        "    elements = [1,2,3,4,2]\n",
        "    elements = [\"mona\", \"dhaval\", \"aamir\", \"tina\", \"chang\"]\n",
        "\n",
        "    bubble_sort(elements)\n",
        "    print(elements)"
      ],
      "metadata": {
        "colab": {
          "base_uri": "https://localhost:8080/"
        },
        "id": "UMuM9-7Vc2d9",
        "outputId": "242162a4-f73c-49fe-f35a-06e9400e4fb2"
      },
      "execution_count": null,
      "outputs": [
        {
          "output_type": "stream",
          "name": "stdout",
          "text": [
            "['aamir', 'chang', 'dhaval', 'mona', 'tina']\n"
          ]
        }
      ]
    },
    {
      "cell_type": "code",
      "source": [
        "elements = [\n",
        "        { 'name': 'mona',   'transaction_amount': 1000, 'device': 'iphone-10'},\n",
        "        { 'name': 'dhaval', 'transaction_amount': 400,  'device': 'google pixel'},\n",
        "        { 'name': 'kathy',  'transaction_amount': 200,  'device': 'vivo'},\n",
        "        { 'name': 'aamir',  'transaction_amount': 800,  'device': 'iphone-8'},\n",
        "    ]"
      ],
      "metadata": {
        "id": "PS_TGC_vdEGN"
      },
      "execution_count": null,
      "outputs": []
    },
    {
      "cell_type": "code",
      "source": [
        "type(elements[0])"
      ],
      "metadata": {
        "colab": {
          "base_uri": "https://localhost:8080/"
        },
        "id": "lQuGCIFyeaoU",
        "outputId": "56ab2215-d323-41ee-ff4b-26037c881632"
      },
      "execution_count": null,
      "outputs": [
        {
          "output_type": "execute_result",
          "data": {
            "text/plain": [
              "dict"
            ]
          },
          "metadata": {},
          "execution_count": 11
        }
      ]
    },
    {
      "cell_type": "code",
      "source": [
        "elements[0][\"transaction_amount\"]"
      ],
      "metadata": {
        "colab": {
          "base_uri": "https://localhost:8080/"
        },
        "id": "GOBO2Avjeida",
        "outputId": "b80e4db3-41c2-4f69-8491-1f9bdcf03ae8"
      },
      "execution_count": null,
      "outputs": [
        {
          "output_type": "execute_result",
          "data": {
            "text/plain": [
              "1000"
            ]
          },
          "metadata": {},
          "execution_count": 14
        }
      ]
    },
    {
      "cell_type": "code",
      "source": [
        "\n",
        "def bubble_sort(elements,key=\"transaction_amount\"):\n",
        "  n=len(elements)\n",
        "\n",
        "  for i in range(n-1):\n",
        "    for j in range(n-i-1):\n",
        "\n",
        "      if (elements[j][key]>elements[j+1][key]):\n",
        "\n",
        "        temp=elements[j];\n",
        "        elements[j]=elements[j+1]\n",
        "        elements[j+1]=temp\n",
        "\n"
      ],
      "metadata": {
        "colab": {
          "base_uri": "https://localhost:8080/"
        },
        "id": "CzimhRYndNJ-",
        "outputId": "24360051-7867-4b32-c91b-88482bc4a62c"
      },
      "execution_count": null,
      "outputs": [
        {
          "output_type": "execute_result",
          "data": {
            "text/plain": [
              "[{'name': 'kathy', 'transaction_amount': 200, 'device': 'vivo'},\n",
              " {'name': 'dhaval', 'transaction_amount': 400, 'device': 'google pixel'},\n",
              " {'name': 'aamir', 'transaction_amount': 800, 'device': 'iphone-8'},\n",
              " {'name': 'mona', 'transaction_amount': 1000, 'device': 'iphone-10'}]"
            ]
          },
          "metadata": {},
          "execution_count": 30
        }
      ]
    },
    {
      "cell_type": "code",
      "source": [
        "bubble_sort(elements, key='transaction_amount')"
      ],
      "metadata": {
        "id": "StZ-lbQif3jw"
      },
      "execution_count": null,
      "outputs": []
    },
    {
      "cell_type": "code",
      "source": [
        "bubble_sort(elements, key='name')\n",
        "elements"
      ],
      "metadata": {
        "colab": {
          "base_uri": "https://localhost:8080/"
        },
        "id": "bnrn-J8sgG_d",
        "outputId": "a83d58ed-9ed1-416a-ef00-f00bc315b335"
      },
      "execution_count": null,
      "outputs": [
        {
          "output_type": "execute_result",
          "data": {
            "text/plain": [
              "[{'name': 'aamir', 'transaction_amount': 800, 'device': 'iphone-8'},\n",
              " {'name': 'dhaval', 'transaction_amount': 400, 'device': 'google pixel'},\n",
              " {'name': 'kathy', 'transaction_amount': 200, 'device': 'vivo'},\n",
              " {'name': 'mona', 'transaction_amount': 1000, 'device': 'iphone-10'}]"
            ]
          },
          "metadata": {},
          "execution_count": 32
        }
      ]
    },
    {
      "cell_type": "code",
      "source": [
        "def swap(x,y):\n",
        "  x,y=y,x\n"
      ],
      "metadata": {
        "id": "Sl0eM1m7iH1h"
      },
      "execution_count": null,
      "outputs": []
    },
    {
      "cell_type": "code",
      "source": [
        "def partition(elements, low, high):\n",
        "  pivot=elements[len(elements)-1]\n",
        "  pivotIndex=0\n",
        "  i=0\n",
        "  print(pivot)\n",
        "  while pivotIndex<len(elements):\n",
        "    while(pivotIndex<len(elements)-1 and elements[pivotIndex]<pivot):\n",
        "      pivotIndex+=1\n",
        "      print(pivotIndex)\n",
        "    i=pivotIndex\n",
        "    while(i<len(elements)-1 and elements[i]>=pivot) :\n",
        "      i+=1\n",
        "      print(i)\n",
        "    if i==len(elements)-1:\n",
        "      break\n",
        "\n",
        "    if i!=pivotIndex:\n",
        "     swap(elements[i],elements[pivotIndex])\n",
        "    else:\n",
        "      break\n",
        "\n",
        "  swap(elements[i],pivot)\n",
        "  return i"
      ],
      "metadata": {
        "id": "3Oian9VNhErL"
      },
      "execution_count": null,
      "outputs": []
    },
    {
      "cell_type": "code",
      "source": [
        "def partition(elements, low, high):\n",
        "    pivotIndex = low\n",
        "    pivot = elements[high]  # Use the high index as the pivot\n",
        "    start = pivotIndex\n",
        "\n",
        "    while start < high:\n",
        "        while pivotIndex < high and elements[pivotIndex] <= pivot:\n",
        "            pivotIndex += 1\n",
        "        start = pivotIndex\n",
        "        while start < high and elements[start] > pivot:\n",
        "            start += 1\n",
        "        if start < high and start != pivotIndex:\n",
        "            elements[pivotIndex], elements[start] = elements[start], elements[pivotIndex]\n",
        "        else:\n",
        "            break\n",
        "\n",
        "    elements[pivotIndex], elements[high] = elements[high], elements[pivotIndex]  # Swap the pivot with pivotIndex\n",
        "    return pivotIndex"
      ],
      "metadata": {
        "id": "RPzgu2qxv3xH"
      },
      "execution_count": null,
      "outputs": []
    },
    {
      "cell_type": "code",
      "source": [
        "def quick_sort(elements, low, high):\n",
        "  if(low<high):\n",
        "    p=partition(elements,low,high)\n",
        "    quick_sort(elements,low,p-1)\n",
        "    quick_sort(elements,p+1,high)"
      ],
      "metadata": {
        "id": "yK_8xlLqhGag"
      },
      "execution_count": null,
      "outputs": []
    },
    {
      "cell_type": "code",
      "source": [
        "elements=[0,1,2,3,4,5,6,7,8]\n",
        "quick_sort(elements,0,8)\n",
        "elements"
      ],
      "metadata": {
        "colab": {
          "base_uri": "https://localhost:8080/"
        },
        "id": "_ZCG5xPtkiYZ",
        "outputId": "1e32b9ac-6931-47ae-a7bb-d90643724e1b"
      },
      "execution_count": null,
      "outputs": [
        {
          "output_type": "execute_result",
          "data": {
            "text/plain": [
              "[0, 1, 2, 3, 4, 5, 6, 7, 8]"
            ]
          },
          "metadata": {},
          "execution_count": 74
        }
      ]
    },
    {
      "cell_type": "code",
      "source": [],
      "metadata": {
        "id": "Pq-GgXAvxgls"
      },
      "execution_count": null,
      "outputs": []
    }
  ]
}