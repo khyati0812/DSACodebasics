{
  "nbformat": 4,
  "nbformat_minor": 0,
  "metadata": {
    "colab": {
      "provenance": [],
      "authorship_tag": "ABX9TyO7UkLWw9zRlpBgxlJaOy2v",
      "include_colab_link": true
    },
    "kernelspec": {
      "name": "python3",
      "display_name": "Python 3"
    },
    "language_info": {
      "name": "python"
    }
  },
  "cells": [
    {
      "cell_type": "markdown",
      "metadata": {
        "id": "view-in-github",
        "colab_type": "text"
      },
      "source": [
        "<a href=\"https://colab.research.google.com/github/khyati0812/DSACodebasics/blob/main/MergeSort.ipynb\" target=\"_parent\"><img src=\"https://colab.research.google.com/assets/colab-badge.svg\" alt=\"Open In Colab\"/></a>"
      ]
    },
    {
      "cell_type": "code",
      "execution_count": 13,
      "metadata": {
        "id": "9wyqWv9T9o0q"
      },
      "outputs": [],
      "source": [
        "def merge_sort(arr,l,h,key):\n",
        "  if l<h:\n",
        "    mid=(l+h)>>1\n",
        "    left=merge_sort(arr,l,mid,key)\n",
        "    right=merge_sort(arr,mid+1,h,key)\n",
        "    merge(arr,l,mid+1,h,key)"
      ]
    },
    {
      "cell_type": "code",
      "source": [
        "arr = [\n",
        "        { 'name': 'vedanth',   'age': 17, 'time_hours': 1},\n",
        "        { 'name': 'rajab', 'age': 12,  'time_hours': 3},\n",
        "        { 'name': 'vignesh',  'age': 21,  'time_hours': 2.5},\n",
        "        { 'name': 'chinmay',  'age': 24,  'time_hours': 1.5},\n",
        "    ]\n",
        "merge_sort(arr,0,3,key=\"name\")\n",
        "arr"
      ],
      "metadata": {
        "colab": {
          "base_uri": "https://localhost:8080/"
        },
        "id": "4ZuKKTlh-33d",
        "outputId": "109a67eb-a9ac-4e10-aba7-d70db1c35835"
      },
      "execution_count": 27,
      "outputs": [
        {
          "output_type": "execute_result",
          "data": {
            "text/plain": [
              "[{'name': 'chinmay', 'age': 24, 'time_hours': 1.5},\n",
              " {'name': 'rajab', 'age': 12, 'time_hours': 3},\n",
              " {'name': 'vedanth', 'age': 17, 'time_hours': 1},\n",
              " {'name': 'vignesh', 'age': 21, 'time_hours': 2.5}]"
            ]
          },
          "metadata": {},
          "execution_count": 27
        }
      ]
    },
    {
      "cell_type": "code",
      "source": [
        "def merge(arr,l,mid,h,key):\n",
        "  i=l;\n",
        "  j=mid;\n",
        "  k=l;\n",
        "  temp=[]\n",
        "  f=l\n",
        "  while(i<=mid-1 and j<=h):\n",
        "\n",
        "    if arr[i][key]<=arr[j][key]:\n",
        "      temp.append(arr[i])\n",
        "\n",
        "      i+=1\n",
        "    else:\n",
        "      temp.append(arr[j])\n",
        "\n",
        "      j+=1\n",
        "  while i<=mid-1:\n",
        "    temp.append(arr[i])\n",
        "\n",
        "    i+=1\n",
        "  while j<=h:\n",
        "    temp.append(arr[j])\n",
        "    j+=1\n",
        "  k=0\n",
        "  for x in range(l,h+1,1) :\n",
        "    arr[x]=  temp[k];\n",
        "    k+=1\n",
        ""
      ],
      "metadata": {
        "id": "l0Xcmh6z96fs"
      },
      "execution_count": 26,
      "outputs": []
    }
  ]
}