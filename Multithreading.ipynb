{
  "nbformat": 4,
  "nbformat_minor": 0,
  "metadata": {
    "colab": {
      "provenance": [],
      "authorship_tag": "ABX9TyOtxRp5DRUuMV362MbIwd6V",
      "include_colab_link": true
    },
    "kernelspec": {
      "name": "python3",
      "display_name": "Python 3"
    },
    "language_info": {
      "name": "python"
    }
  },
  "cells": [
    {
      "cell_type": "markdown",
      "metadata": {
        "id": "view-in-github",
        "colab_type": "text"
      },
      "source": [
        "<a href=\"https://colab.research.google.com/github/khyati0812/DSACodebasics/blob/main/Multithreading.ipynb\" target=\"_parent\"><img src=\"https://colab.research.google.com/assets/colab-badge.svg\" alt=\"Open In Colab\"/></a>"
      ]
    },
    {
      "cell_type": "code",
      "execution_count": 20,
      "metadata": {
        "colab": {
          "base_uri": "https://localhost:8080/"
        },
        "id": "C9v4eH7rT1Su",
        "outputId": "45425c10-8a35-44f3-cd57-9c57869cfd23"
      },
      "outputs": [
        {
          "output_type": "stream",
          "name": "stdout",
          "text": [
            "start 5\n",
            "CUBE: 6\n",
            "Cube: 1\n",
            "CUBE: 6\n",
            "Cube: 8\n",
            "CUBE: 6\n",
            "Cube: 27\n",
            "CUBE: 6\n",
            "Cube: 64\n",
            "CUBE: 6\n",
            "Cube: 125\n",
            "CUBE: 6\n",
            "Cube: 216\n",
            "CUBE: 6\n",
            "Cube: 343\n",
            "CUBE: 6\n",
            "Cube: 512\n",
            "CUBE: 6\n",
            "Cube: 729\n",
            "CUBE: 6\n",
            "Cube: 1000\n"
          ]
        }
      ],
      "source": [
        "import threading\n",
        "def print_cube(num):\n",
        "    print(\"CUBE:\", threading.active_count())\n",
        "    print(\"Cube: {}\" .format(num * num * num))\n",
        "def print_square(num):\n",
        "    print(\"SQUARE:\", threading.active_count())\n",
        "    print(\"Square: {}\" .format(num * num))\n",
        "print(\"start\",threading.active_count())\n",
        "for i in range(1,11):\n",
        "    t1 = threading.Thread(target=print_cube, args=(i,))\n",
        "    ##t2=threading.Thread(target=print_square,args=((i,)))\n",
        "    t1.start()\n",
        "    t1.join()\n",
        "\n",
        "    #t2.start()\n",
        "    #t2.join()\n",
        "\n",
        "\n"
      ]
    },
    {
      "cell_type": "code",
      "source": [
        "print(threading.active_count())"
      ],
      "metadata": {
        "colab": {
          "base_uri": "https://localhost:8080/"
        },
        "id": "e5UH3Ag8V4i2",
        "outputId": "6c51c8dc-9b68-4740-aec2-b3a9a14ee91a"
      },
      "execution_count": 17,
      "outputs": [
        {
          "output_type": "stream",
          "name": "stdout",
          "text": [
            "5\n"
          ]
        }
      ]
    }
  ]
}