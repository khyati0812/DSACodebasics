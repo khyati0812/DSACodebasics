{
  "nbformat": 4,
  "nbformat_minor": 0,
  "metadata": {
    "colab": {
      "provenance": [],
      "authorship_tag": "ABX9TyPNibxbuqW45sqXJKV4aaes",
      "include_colab_link": true
    },
    "kernelspec": {
      "name": "python3",
      "display_name": "Python 3"
    },
    "language_info": {
      "name": "python"
    }
  },
  "cells": [
    {
      "cell_type": "markdown",
      "metadata": {
        "id": "view-in-github",
        "colab_type": "text"
      },
      "source": [
        "<a href=\"https://colab.research.google.com/github/khyati0812/DSACodebasics/blob/main/Recursion.ipynb\" target=\"_parent\"><img src=\"https://colab.research.google.com/assets/colab-badge.svg\" alt=\"Open In Colab\"/></a>"
      ]
    },
    {
      "cell_type": "code",
      "execution_count": null,
      "metadata": {
        "id": "Izhcqth-BWdF"
      },
      "outputs": [],
      "source": [
        "def func(n):\n",
        "  if n==1:\n",
        "    return 1\n",
        "  return n+func(n-1)\n"
      ]
    },
    {
      "cell_type": "code",
      "source": [
        "def gcd(m,n):\n",
        "  if m==n:\n",
        "    return m\n",
        "  if m>n:\n",
        "    return gcd(m-n,n)\n",
        "  else:\n",
        "    return gcd(m,n-m)\n",
        "gcd(82,60)\n"
      ],
      "metadata": {
        "colab": {
          "base_uri": "https://localhost:8080/"
        },
        "id": "pwJa_4ymFq37",
        "outputId": "432d5b57-4eeb-4ced-9e21-cbe5995dcef5"
      },
      "execution_count": 5,
      "outputs": [
        {
          "output_type": "execute_result",
          "data": {
            "text/plain": [
              "2"
            ]
          },
          "metadata": {},
          "execution_count": 5
        }
      ]
    },
    {
      "cell_type": "code",
      "source": [
        "def power(a,b):\n",
        "  if b==0:\n",
        "    return 1\n",
        "  if b==1:\n",
        "    return a\n",
        "  return power(a,b-1)*a\n",
        "power(2,4)"
      ],
      "metadata": {
        "colab": {
          "base_uri": "https://localhost:8080/"
        },
        "id": "GOBomuIVGjEU",
        "outputId": "f5288c7f-7c48-4468-eb07-1571d4e7cb10"
      },
      "execution_count": 7,
      "outputs": [
        {
          "output_type": "execute_result",
          "data": {
            "text/plain": [
              "16"
            ]
          },
          "metadata": {},
          "execution_count": 7
        }
      ]
    },
    {
      "cell_type": "code",
      "source": [
        "def power1(a,b):\n",
        "  if b==0:\n",
        "    return 1\n",
        "  if b==1:\n",
        "    return a\n",
        "\n",
        "  x=power1(a,b//2)\n",
        "  z=x*x\n",
        "  if (b%2):\n",
        "    z*=a\n",
        "  return z\n",
        "power1(2,5)\n",
        "\n",
        ""
      ],
      "metadata": {
        "colab": {
          "base_uri": "https://localhost:8080/"
        },
        "id": "AYiCVOO0InKQ",
        "outputId": "9996244c-b7f3-46c2-90a9-7c2781d86f31"
      },
      "execution_count": 17,
      "outputs": [
        {
          "output_type": "execute_result",
          "data": {
            "text/plain": [
              "32"
            ]
          },
          "metadata": {},
          "execution_count": 17
        }
      ]
    },
    {
      "cell_type": "code",
      "source": [
        "def func(n):\n",
        "  if n==1:\n",
        "    return 1\n",
        "  return 1/n+func(n-1)\n",
        "func(4)"
      ],
      "metadata": {
        "colab": {
          "base_uri": "https://localhost:8080/"
        },
        "id": "4YHHW96TJnzO",
        "outputId": "67259153-9cdf-40c5-b0e8-d4c004f71b36"
      },
      "execution_count": 18,
      "outputs": [
        {
          "output_type": "execute_result",
          "data": {
            "text/plain": [
              "2.083333333333333"
            ]
          },
          "metadata": {},
          "execution_count": 18
        }
      ]
    },
    {
      "cell_type": "code",
      "source": [
        "func(5)"
      ],
      "metadata": {
        "colab": {
          "base_uri": "https://localhost:8080/"
        },
        "id": "E7Z0Mo9XB-la",
        "outputId": "5f5f8fb2-fcc5-45f9-b36c-4b6776b5fa48"
      },
      "execution_count": null,
      "outputs": [
        {
          "output_type": "execute_result",
          "data": {
            "text/plain": [
              "15"
            ]
          },
          "metadata": {},
          "execution_count": 4
        }
      ]
    },
    {
      "cell_type": "code",
      "source": [
        "def func1(n):\n",
        "  if n==0\n",
        "  str=func1(n/10)+str(n%10)\n",
        "  return str"
      ],
      "metadata": {
        "id": "aTpWBeAzCHcE"
      },
      "execution_count": null,
      "outputs": []
    },
    {
      "cell_type": "code",
      "source": [
        "arr2=[1, 2, [3,4], [5,6]]\n"
      ],
      "metadata": {
        "id": "hv4XgFrHCtjd"
      },
      "execution_count": null,
      "outputs": []
    },
    {
      "cell_type": "code",
      "source": [
        "def func(arr, index):\n",
        "    if index < 0:  # Base case for index less than 0\n",
        "        return 0\n",
        "\n",
        "    if type(arr[index]) != list:\n",
        "        # Base case when index is 0 and the element is not a list\n",
        "        if index == 0:\n",
        "            return arr[index]\n",
        "        # Recursive case\n",
        "        return arr[index] + func(arr, index - 1)\n",
        "    else:\n",
        "        # Sum the elements of the list at the current index\n",
        "        sum = 0\n",
        "        for i in range(len(arr[index])):\n",
        "            sum += arr[index][i]\n",
        "        # If index is 0, return the sum, otherwise add it to the result of the recursive call\n",
        "        if index == 0:\n",
        "            return sum\n",
        "        return sum + func(arr, index - 1)\n",
        "\n",
        "# Example usage:\n",
        "arr = [1, 2, [3, 4], 5]\n",
        "print(func(arr, 3))  # This should now give the correct answer\n"
      ],
      "metadata": {
        "colab": {
          "base_uri": "https://localhost:8080/"
        },
        "id": "x-8DZxNIFD3-",
        "outputId": "0f1707c1-3aed-4cfa-8dac-83abed04ebe1"
      },
      "execution_count": null,
      "outputs": [
        {
          "output_type": "stream",
          "name": "stdout",
          "text": [
            "15\n"
          ]
        }
      ]
    },
    {
      "cell_type": "code",
      "source": [
        "def func(arr,index):\n",
        "\n",
        "  if(index==0):\n",
        "    if type(arr[index])!=\"list\":\n",
        "     return arr[index]+func(arr,index-1)\n",
        "    else:\n",
        "     sum=0\n",
        "     for i in range(len(arr[index])):\n",
        "       sum+=arr[index][i]\n",
        "     return sum\n",
        "  sum=0\n",
        "\n",
        "  if type(arr[index])!=\"list\":\n",
        "    return arr[index]+func(arr,index-1)\n",
        "  else:\n",
        "   for i in range(len(arr[index])):\n",
        "    sum+=arr[index][i]\n",
        "   return sum+func(arr,index-1)\n"
      ],
      "metadata": {
        "id": "kOGA2-ksCzQI"
      },
      "execution_count": null,
      "outputs": []
    },
    {
      "cell_type": "code",
      "source": [
        "def func2(arr, index):\n",
        "    if index == 0:\n",
        "        if type(arr[index]) != \"list\":\n",
        "            return arr[index] + func(arr, index - 1)\n",
        "        else:\n",
        "            sum = 0\n",
        "            for i in range(len(arr[index])):\n",
        "                sum += arr[index][i]\n",
        "            return sum\n",
        "    sum = 0\n",
        "\n",
        "    if type(arr[index]) != \"list\":\n",
        "        return arr[index] + func(arr, index - 1)\n",
        "    else:\n",
        "        for i in range(len(arr[index])):\n",
        "            sum += arr[index][i]\n",
        "        return sum + func(arr, index - 1)\n"
      ],
      "metadata": {
        "id": "bJjrLxTAEUqT"
      },
      "execution_count": null,
      "outputs": []
    },
    {
      "cell_type": "code",
      "source": [
        "def func(arr, index):\n",
        "    if index < 0:  # Base case for index less than 0\n",
        "        return 0\n",
        "\n",
        "    if index == 0:\n",
        "        if type(arr[index]) != list:\n",
        "            return arr[index]\n",
        "        else:\n",
        "            sum = 0\n",
        "            for i in range(len(arr[index])):\n",
        "                sum += arr[index][i]\n",
        "            return sum\n",
        "\n",
        "\n",
        "\n",
        "    if type(arr[index]) != list:\n",
        "        return arr[index] + func(arr, index - 1)\n",
        "    else:\n",
        "        sum = 0\n",
        "        for i in range(len(arr[index])):\n",
        "            sum += arr[index][i]\n",
        "        return sum + func(arr, index - 1)\n",
        "\n",
        "# Example usage:\n",
        "arr = [1, 2, [3, 4], 5]\n",
        "print(func(arr, 3))  # Replace 3 with the desired index\n"
      ],
      "metadata": {
        "colab": {
          "base_uri": "https://localhost:8080/"
        },
        "id": "-b6fFI8vEhtw",
        "outputId": "6d2d13ff-e3c9-4fae-e355-65c6034cf941"
      },
      "execution_count": null,
      "outputs": [
        {
          "output_type": "stream",
          "name": "stdout",
          "text": [
            "15\n"
          ]
        }
      ]
    },
    {
      "cell_type": "code",
      "source": [
        "func2(arr2,3)"
      ],
      "metadata": {
        "colab": {
          "base_uri": "https://localhost:8080/"
        },
        "id": "Wibv-jE1DN5t",
        "outputId": "4046793f-d9ac-45f5-bc9b-67b397417360"
      },
      "execution_count": null,
      "outputs": [
        {
          "output_type": "execute_result",
          "data": {
            "text/plain": [
              "21"
            ]
          },
          "metadata": {},
          "execution_count": 30
        }
      ]
    },
    {
      "cell_type": "code",
      "source": [
        "def func2(arr2, index):\n",
        "    if index < 0:  # Base case for index less than 0\n",
        "        return 0\n",
        "\n",
        "    if index == 0:\n",
        "        if type(arr[index]) != list:\n",
        "            return arr[index] + func2(arr, index - 1)\n",
        "        else:\n",
        "            sum = 0\n",
        "            for i in range(len(arr[index])):\n",
        "                sum += arr[index][i]\n",
        "            return sum\n",
        "\n",
        "    sum = 0\n",
        "\n",
        "    if type(arr[index]) != list:\n",
        "        return arr[index] + func2(arr, index - 1)\n",
        "    else:\n",
        "        for i in range(len(arr[index])):\n",
        "            sum += arr[index][i]\n",
        "        return sum + func2(arr, index - 1)\n",
        "\n",
        "# Example usage:\n",
        " # Replace 3 with the desired index\n"
      ],
      "metadata": {
        "id": "2lnpn23hFVVZ"
      },
      "execution_count": null,
      "outputs": []
    },
    {
      "cell_type": "code",
      "source": [
        "def fibo(n):\n",
        "  if n<=1:\n",
        "    return n\n",
        "  return fibo(n-1)+fibo(n-2)"
      ],
      "metadata": {
        "id": "fMlk6PsCFlKn"
      },
      "execution_count": null,
      "outputs": []
    },
    {
      "cell_type": "code",
      "source": [
        "fibo(3)"
      ],
      "metadata": {
        "colab": {
          "base_uri": "https://localhost:8080/"
        },
        "id": "wjnwFBeVFsJC",
        "outputId": "d21ec07d-4b44-4247-cc13-0d5e81ae87f3"
      },
      "execution_count": null,
      "outputs": [
        {
          "output_type": "execute_result",
          "data": {
            "text/plain": [
              "2"
            ]
          },
          "metadata": {},
          "execution_count": 32
        }
      ]
    },
    {
      "cell_type": "code",
      "source": [
        "def fact(n):\n",
        "  if n<=1:\n",
        "    return 1\n",
        "  return n*fact(n-1)"
      ],
      "metadata": {
        "id": "BvjcDxE0FwYN"
      },
      "execution_count": null,
      "outputs": []
    },
    {
      "cell_type": "code",
      "source": [
        "fact(5)"
      ],
      "metadata": {
        "colab": {
          "base_uri": "https://localhost:8080/"
        },
        "id": "oh7VOOlaF0oI",
        "outputId": "414ca475-b6cb-4014-de6f-800b6ae3251b"
      },
      "execution_count": null,
      "outputs": [
        {
          "output_type": "execute_result",
          "data": {
            "text/plain": [
              "120"
            ]
          },
          "metadata": {},
          "execution_count": 34
        }
      ]
    },
    {
      "cell_type": "code",
      "source": [
        "def sum(n):\n",
        "  if n==0:\n",
        "    return 0\n",
        "  return (n%10)+sum(n//10)"
      ],
      "metadata": {
        "id": "M29My3yjF65f"
      },
      "execution_count": null,
      "outputs": []
    },
    {
      "cell_type": "code",
      "source": [
        "def sumSeries(n):\n",
        "  if n<=0:\n",
        "    return 0\n",
        "  return (n)+sumSeries(n-2)"
      ],
      "metadata": {
        "id": "6jJX_bqxGMuM"
      },
      "execution_count": null,
      "outputs": []
    },
    {
      "cell_type": "code",
      "source": [
        "sumSeries(10)"
      ],
      "metadata": {
        "colab": {
          "base_uri": "https://localhost:8080/"
        },
        "id": "NarraKX6GAwl",
        "outputId": "5dbfa576-9c0f-4b09-f94b-087588fc85a9"
      },
      "execution_count": null,
      "outputs": [
        {
          "output_type": "execute_result",
          "data": {
            "text/plain": [
              "30"
            ]
          },
          "metadata": {},
          "execution_count": 40
        }
      ]
    }
  ]
}