{
  "nbformat": 4,
  "nbformat_minor": 0,
  "metadata": {
    "colab": {
      "provenance": [],
      "authorship_tag": "ABX9TyMrnF5TsIcE3mrYSe7401m6",
      "include_colab_link": true
    },
    "kernelspec": {
      "name": "python3",
      "display_name": "Python 3"
    },
    "language_info": {
      "name": "python"
    }
  },
  "cells": [
    {
      "cell_type": "markdown",
      "metadata": {
        "id": "view-in-github",
        "colab_type": "text"
      },
      "source": [
        "<a href=\"https://colab.research.google.com/github/khyati0812/DSACodebasics/blob/main/InsertionSort.ipynb\" target=\"_parent\"><img src=\"https://colab.research.google.com/assets/colab-badge.svg\" alt=\"Open In Colab\"/></a>"
      ]
    },
    {
      "cell_type": "code",
      "execution_count": 17,
      "metadata": {
        "id": "-MsjPyBCygZt"
      },
      "outputs": [],
      "source": [
        "arr=[2, 6, 6, 1, 2, 9, 5]\n",
        "def insertion_sort(arr):\n",
        "  n=len(arr)\n",
        "  for i in range(0,n-1):\n",
        "    for j in range(i-1,-1,-1):\n",
        "      if arr[j]>arr[j+1]:\n",
        "        arr[j],arr[j+1]=arr[j+1],arr[j]\n",
        "      else:\n",
        "        break\n",
        "    for k in range(i+1):\n",
        "      print(arr[k],end=\" \")\n",
        "    if i%2==0:\n",
        "      print(arr[i//2])\n",
        "    else:\n",
        "      k=i+1\n",
        "      print((arr[k//2]+arr[k//2-1])/2)\n",
        "\n"
      ]
    },
    {
      "cell_type": "code",
      "source": [
        "insertion_sort(arr)"
      ],
      "metadata": {
        "colab": {
          "base_uri": "https://localhost:8080/"
        },
        "id": "CGsyrGgS1Mf-",
        "outputId": "d1eb7b94-12f2-4e48-81a5-78195a67889f"
      },
      "execution_count": 18,
      "outputs": [
        {
          "output_type": "stream",
          "name": "stdout",
          "text": [
            "2 2\n",
            "2 6 4.0\n",
            "2 6 6 6\n",
            "1 2 6 6 4.0\n",
            "1 2 2 6 6 2\n",
            "1 2 2 6 6 9 4.0\n"
          ]
        }
      ]
    }
  ]
}