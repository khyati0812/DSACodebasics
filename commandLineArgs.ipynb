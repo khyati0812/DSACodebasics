{
  "nbformat": 4,
  "nbformat_minor": 0,
  "metadata": {
    "colab": {
      "provenance": [],
      "authorship_tag": "ABX9TyNju5f/PKQ7T4/MfuYSwxjb",
      "include_colab_link": true
    },
    "kernelspec": {
      "name": "python3",
      "display_name": "Python 3"
    },
    "language_info": {
      "name": "python"
    }
  },
  "cells": [
    {
      "cell_type": "markdown",
      "metadata": {
        "id": "view-in-github",
        "colab_type": "text"
      },
      "source": [
        "<a href=\"https://colab.research.google.com/github/khyati0812/DSACodebasics/blob/main/commandLineArgs.ipynb\" target=\"_parent\"><img src=\"https://colab.research.google.com/assets/colab-badge.svg\" alt=\"Open In Colab\"/></a>"
      ]
    },
    {
      "cell_type": "code",
      "execution_count": 21,
      "metadata": {
        "colab": {
          "base_uri": "https://localhost:8080/"
        },
        "id": "m-BuLuaEV5B7",
        "outputId": "442c7bb5-5dfd-496c-e517-0dceefd4ba53"
      },
      "outputs": [
        {
          "output_type": "stream",
          "name": "stdout",
          "text": [
            "Overwriting parsing.py\n"
          ]
        }
      ],
      "source": [
        "%%writefile parsing.py\n",
        "import argparse\n",
        "parser = argparse.ArgumentParser()\n",
        "parser.add_argument(\"--physics\", type=int)\n",
        "parser.add_argument(\"--chemistry\", type=int)\n",
        "parser.add_argument(\"--maths\", type=int)\n",
        "args = parser.parse_args()\n",
        "print(args.physics)\n",
        "print(args.chemistry)\n",
        "print(args.maths)\n",
        "total=args.physics+args.chemistry+args.maths\n",
        "avg=total/3\n",
        "print(avg)"
      ]
    },
    {
      "cell_type": "code",
      "source": [
        "!python3 parsing.py --physics 60 --chemistry 70 --maths 90"
      ],
      "metadata": {
        "colab": {
          "base_uri": "https://localhost:8080/"
        },
        "id": "NyZ6iQFPWsN8",
        "outputId": "0ff967f2-1de7-4dae-d370-406e9403e352"
      },
      "execution_count": 22,
      "outputs": [
        {
          "output_type": "stream",
          "name": "stdout",
          "text": [
            "60\n",
            "70\n",
            "90\n",
            "73.33333333333333\n"
          ]
        }
      ]
    }
  ]
}