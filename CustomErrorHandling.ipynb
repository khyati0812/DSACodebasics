{
  "nbformat": 4,
  "nbformat_minor": 0,
  "metadata": {
    "colab": {
      "provenance": [],
      "authorship_tag": "ABX9TyOYuwqWiO8fEZvzx4iOF4jW",
      "include_colab_link": true
    },
    "kernelspec": {
      "name": "python3",
      "display_name": "Python 3"
    },
    "language_info": {
      "name": "python"
    }
  },
  "cells": [
    {
      "cell_type": "markdown",
      "metadata": {
        "id": "view-in-github",
        "colab_type": "text"
      },
      "source": [
        "<a href=\"https://colab.research.google.com/github/khyati0812/DSACodebasics/blob/main/CustomErrorHandling.ipynb\" target=\"_parent\"><img src=\"https://colab.research.google.com/assets/colab-badge.svg\" alt=\"Open In Colab\"/></a>"
      ]
    },
    {
      "cell_type": "code",
      "execution_count": 5,
      "metadata": {
        "colab": {
          "base_uri": "https://localhost:8080/"
        },
        "id": "qKHNOuR3UwF7",
        "outputId": "7de0bf3b-aabd-4c49-ff00-6a04c310b75a"
      },
      "outputs": [
        {
          "output_type": "stream",
          "name": "stdout",
          "text": [
            "Name is Khyati and Age is 16\n",
            "Not eligible\n"
          ]
        }
      ],
      "source": [
        "class Person():\n",
        "  def __init__(self,name,age):\n",
        "    self.name=name\n",
        "    self.age=age\n",
        "  def display_person(self):\n",
        "    print(f\"Name is {self.name} and Age is {self.age}\")\n",
        "  def get_age(self):\n",
        "    try:\n",
        "      if self.age<=18:\n",
        "        raise AdultException\n",
        "      else:\n",
        "        print(f\"Age={self.age}\")\n",
        "    except AdultException:\n",
        "      print(\"Not eligible\")\n",
        "\n",
        "p=Person(\"Khyati\",16)\n",
        "p.display_person()\n",
        "p.get_age()"
      ]
    },
    {
      "cell_type": "code",
      "source": [],
      "metadata": {
        "id": "AXQDLcdnX7iH"
      },
      "execution_count": null,
      "outputs": []
    },
    {
      "cell_type": "code",
      "source": [
        "class AdultException(Exception):\n",
        "    pass"
      ],
      "metadata": {
        "id": "VXp6Z7f4V6w4"
      },
      "execution_count": 3,
      "outputs": []
    },
    {
      "cell_type": "markdown",
      "source": [
        "# Article- https://www.programiz.com/python-programming/user-defined-exception\n"
      ],
      "metadata": {
        "id": "8Mb3KLUPX3mD"
      }
    }
  ]
}