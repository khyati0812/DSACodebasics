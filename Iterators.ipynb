{
  "nbformat": 4,
  "nbformat_minor": 0,
  "metadata": {
    "colab": {
      "provenance": [],
      "authorship_tag": "ABX9TyM2Aw59hWJBfQb5eg+6BVFE",
      "include_colab_link": true
    },
    "kernelspec": {
      "name": "python3",
      "display_name": "Python 3"
    },
    "language_info": {
      "name": "python"
    }
  },
  "cells": [
    {
      "cell_type": "markdown",
      "metadata": {
        "id": "view-in-github",
        "colab_type": "text"
      },
      "source": [
        "<a href=\"https://colab.research.google.com/github/khyati0812/DSACodebasics/blob/main/Iterators.ipynb\" target=\"_parent\"><img src=\"https://colab.research.google.com/assets/colab-badge.svg\" alt=\"Open In Colab\"/></a>"
      ]
    },
    {
      "cell_type": "code",
      "execution_count": null,
      "metadata": {
        "id": "Fy9xFlpCwa5U"
      },
      "outputs": [],
      "source": []
    },
    {
      "cell_type": "code",
      "source": [
        "class FibonacciIterator:\n",
        "  def __init__(self,limit):\n",
        "    self.limit=limit\n",
        "\n",
        "  def __iter__(self):\n",
        "\n",
        "    self.a=0\n",
        "    self.b=1\n",
        "    return self\n",
        "\n",
        "  def __next__(self):\n",
        "    if self.limit!=0:\n",
        "     c=self.a+self.b\n",
        "     x=self.a\n",
        "     self.a=self.b\n",
        "     self.b=c\n",
        "     self.limit-=1\n",
        "     return x\n",
        "    else:\n",
        "     raise StopIteration\n",
        "myit=FibonacciIterator(10)\n",
        "myiterator=iter(myit)\n",
        "for x in myiterator:\n",
        "  print(x)\n",
        "\n"
      ],
      "metadata": {
        "colab": {
          "base_uri": "https://localhost:8080/"
        },
        "id": "SBrbqDQKwzp_",
        "outputId": "69e9fa8f-f28f-457b-8f68-7f0f7ab509a0"
      },
      "execution_count": 15,
      "outputs": [
        {
          "output_type": "stream",
          "name": "stdout",
          "text": [
            "0\n",
            "1\n",
            "1\n",
            "2\n",
            "3\n",
            "5\n",
            "8\n",
            "13\n",
            "21\n",
            "34\n"
          ]
        }
      ]
    }
  ]
}