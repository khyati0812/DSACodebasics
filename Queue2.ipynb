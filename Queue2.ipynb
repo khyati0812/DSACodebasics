{
  "nbformat": 4,
  "nbformat_minor": 0,
  "metadata": {
    "colab": {
      "provenance": [],
      "authorship_tag": "ABX9TyOUTdy2IE4iPmCdzHp+xKII",
      "include_colab_link": true
    },
    "kernelspec": {
      "name": "python3",
      "display_name": "Python 3"
    },
    "language_info": {
      "name": "python"
    }
  },
  "cells": [
    {
      "cell_type": "markdown",
      "metadata": {
        "id": "view-in-github",
        "colab_type": "text"
      },
      "source": [
        "<a href=\"https://colab.research.google.com/github/khyati0812/DSACodebasics/blob/main/Queue2.ipynb\" target=\"_parent\"><img src=\"https://colab.research.google.com/assets/colab-badge.svg\" alt=\"Open In Colab\"/></a>"
      ]
    },
    {
      "cell_type": "code",
      "execution_count": 6,
      "metadata": {
        "colab": {
          "base_uri": "https://localhost:8080/"
        },
        "id": "M85nGEX-tYGL",
        "outputId": "3d77ea2c-25ba-4929-e68f-784cee3f1f09"
      },
      "outputs": [
        {
          "output_type": "stream",
          "name": "stdout",
          "text": [
            "1\n",
            "10\n",
            "11\n",
            "100\n",
            "101\n",
            "110\n",
            "111\n",
            "1000\n",
            "1001\n",
            "1010\n"
          ]
        }
      ],
      "source": [
        "from collections import deque\n",
        "queue=deque()\n",
        "queue.appendleft(\"1\")\n",
        "while len(queue)!=0:\n",
        "  front=queue.pop()\n",
        "  print(front)\n",
        "  if front==\"1010\":\n",
        "    break\n",
        "  ch=front[len(front)-1]\n",
        "  queue.appendleft(front+\"0\")\n",
        "  if ch=='0':\n",
        "    x=len(front)\n",
        "    stri=front[:x]\n",
        "    stri+='1'\n",
        "    #front[len(front)-1]='1'\n",
        "    queue.appendleft(stri)\n",
        "  else:\n",
        "    i=len(front)-1\n",
        "    while(i>=0 and front[i]=='1') :\n",
        "      i-=1\n",
        "    if(i<0)  :\n",
        "      stri=\"1\"+front\n",
        "      queue.appendleft(stri)\n",
        "    else:\n",
        "      stri=front[0:i]+\"1\"+front[i+1:]\n",
        "\n",
        "      queue.appendleft(stri)\n"
      ]
    }
  ]
}