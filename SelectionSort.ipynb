{
  "nbformat": 4,
  "nbformat_minor": 0,
  "metadata": {
    "colab": {
      "provenance": [],
      "authorship_tag": "ABX9TyP2u9htv5Dv3PnvX9varq4p",
      "include_colab_link": true
    },
    "kernelspec": {
      "name": "python3",
      "display_name": "Python 3"
    },
    "language_info": {
      "name": "python"
    }
  },
  "cells": [
    {
      "cell_type": "markdown",
      "metadata": {
        "id": "view-in-github",
        "colab_type": "text"
      },
      "source": [
        "<a href=\"https://colab.research.google.com/github/khyati0812/DSACodebasics/blob/main/SelectionSort.ipynb\" target=\"_parent\"><img src=\"https://colab.research.google.com/assets/colab-badge.svg\" alt=\"Open In Colab\"/></a>"
      ]
    },
    {
      "cell_type": "code",
      "execution_count": 32,
      "metadata": {
        "id": "Yxyrh80GQihp"
      },
      "outputs": [],
      "source": [
        "# def selection_sort(arr,n,index,keys):\n",
        "#   for i in range(0,n):\n",
        "#     min=i\n",
        "#     for j in range(i+1,n):\n",
        "#       if index==0:\n",
        "#         if arr[j][keys[index]]<arr[min][keys[index]]:\n",
        "#           min=j\n",
        "#       elif index>0:\n",
        "#         if arr[j][keys[index]]<arr[min][keys[index]] and arr[j][keys[index-1]]<=arr[min][keys[index-1]]:\n",
        "#           min=j\n",
        "#     arr[min],arr[i]=arr[i],arr[min]"
      ]
    },
    {
      "cell_type": "code",
      "source": [
        "def selection_sort(arr, n, index, keys):\n",
        "    for i in range(n):\n",
        "        min_idx = i\n",
        "        for j in range(i + 1, n):\n",
        "            # Compare primary key\n",
        "            if index==0 and arr[j][keys[index]] < arr[min_idx][keys[index]]:\n",
        "                min_idx = j\n",
        "            # If primary keys are equal, compare secondary key if applicable\n",
        "            elif arr[j][keys[index]] < arr[min_idx][keys[index]] and index > 0:\n",
        "                if arr[j][keys[index - 1]] < arr[min_idx][keys[index - 1]]:\n",
        "                    min_idx = j\n",
        "        # Swap the found minimum element with the first element\n",
        "        arr[i], arr[min_idx] = arr[min_idx], arr[i]"
      ],
      "metadata": {
        "id": "MKkUYb9PXvsw"
      },
      "execution_count": 34,
      "outputs": []
    },
    {
      "cell_type": "code",
      "source": [
        "def multi_level_sort(arr, keys):\n",
        "    def selection_sort(arr, n, index):\n",
        "        for i in range(n):\n",
        "            min_idx = i\n",
        "            for j in range(i + 1, n):\n",
        "                # Compare elements based on the current key\n",
        "                if arr[j][keys[index]] < arr[min_idx][keys[index]]:\n",
        "                    min_idx = j\n",
        "                # If primary keys are equal, compare using next key if applicable\n",
        "                elif arr[j][keys[index]] == arr[min_idx][keys[index]] and index > 0:\n",
        "                    if arr[j][keys[index - 1]] < arr[min_idx][keys[index - 1]]:\n",
        "                        min_idx = j\n",
        "            # Swap the found minimum element with the current element\n",
        "            arr[i], arr[min_idx] = arr[min_idx], arr[i]\n",
        "\n",
        "    # Perform sorting for each key in the given order\n",
        "    for i in range(len(keys) - 1, -1, -1):\n",
        "        selection_sort(arr, len(arr), i)\n",
        "\n",
        "# Example usage\n",
        "elements = [\n",
        "    {'First Name': 'Raj', 'Last Name': 'Nayyar', 'x': 76},\n",
        "    {'First Name': 'Suraj', 'Last Name': 'Sharma', 'x': 89},\n",
        "    {'First Name': 'Karan', 'Last Name': 'Kumar', 'x': 90},\n",
        "    {'First Name': 'Jade', 'Last Name': 'Canary', 'x': 45},\n",
        "    {'First Name': 'Raj', 'Last Name': 'Thakur', 'x': 62},\n",
        "    {'First Name': 'Raj', 'Last Name': 'Sharma', 'x': 34},\n",
        "    {'First Name': 'Kiran', 'Last Name': 'Kamla', 'x': 58},\n",
        "    {'First Name': 'Armaan', 'Last Name': 'Kumar', 'x': 71},\n",
        "    {'First Name': 'Jaya', 'Last Name': 'Sharma', 'x': 80},\n",
        "    {'First Name': 'Ingrid', 'Last Name': 'Galore', 'x': 53},\n",
        "    {'First Name': 'Jaya', 'Last Name': 'Seth', 'x': 67},\n",
        "    {'First Name': 'Armaan', 'Last Name': 'Dadra', 'x': 49},\n",
        "    {'First Name': 'Ingrid', 'Last Name': 'Maverick', 'x': 37},\n",
        "    {'First Name': 'Aahana', 'Last Name': 'Arora', 'x': 92}\n",
        "]\n",
        "keys=['First Name','Last Name','x']\n",
        "\n",
        "multi_level_sort(elements, keys)\n",
        "\n",
        "# Print sorted list\n",
        "for item in elements:\n",
        "    print(item)\n"
      ],
      "metadata": {
        "colab": {
          "base_uri": "https://localhost:8080/"
        },
        "id": "nDK78VZEZaqd",
        "outputId": "527154a1-1e00-4ed9-df5c-aba83bfd19c5"
      },
      "execution_count": 36,
      "outputs": [
        {
          "output_type": "stream",
          "name": "stdout",
          "text": [
            "{'First Name': 'Aahana', 'Last Name': 'Arora', 'x': 92}\n",
            "{'First Name': 'Armaan', 'Last Name': 'Dadra', 'x': 49}\n",
            "{'First Name': 'Armaan', 'Last Name': 'Kumar', 'x': 71}\n",
            "{'First Name': 'Ingrid', 'Last Name': 'Galore', 'x': 53}\n",
            "{'First Name': 'Ingrid', 'Last Name': 'Maverick', 'x': 37}\n",
            "{'First Name': 'Jade', 'Last Name': 'Canary', 'x': 45}\n",
            "{'First Name': 'Jaya', 'Last Name': 'Seth', 'x': 67}\n",
            "{'First Name': 'Jaya', 'Last Name': 'Sharma', 'x': 80}\n",
            "{'First Name': 'Karan', 'Last Name': 'Kumar', 'x': 90}\n",
            "{'First Name': 'Kiran', 'Last Name': 'Kamla', 'x': 58}\n",
            "{'First Name': 'Raj', 'Last Name': 'Nayyar', 'x': 76}\n",
            "{'First Name': 'Raj', 'Last Name': 'Sharma', 'x': 34}\n",
            "{'First Name': 'Raj', 'Last Name': 'Thakur', 'x': 62}\n",
            "{'First Name': 'Suraj', 'Last Name': 'Sharma', 'x': 89}\n"
          ]
        }
      ]
    },
    {
      "cell_type": "code",
      "source": [
        "def multilevel_selection_sort(elements, sort_by_list):\n",
        "    for sort_by in sort_by_list[-1::-1]:\n",
        "        for x in range(len(elements)):\n",
        "            min_index = x\n",
        "            for y in range(x, len(elements)):\n",
        "                if elements[y][sort_by] < elements[min_index][sort_by]:\n",
        "                    min_index = y\n",
        "            if x != min_index:\n",
        "                elements[x], elements[min_index] = elements[min_index], elements[x]\n",
        "        # print(f'Array after Multi-Level Sorting:', *elements, sep='\\n')\n",
        "elements = [\n",
        "    {'First Name': 'Raj', 'Last Name': 'Nayyar', 'x': 76},\n",
        "    {'First Name': 'Suraj', 'Last Name': 'Sharma', 'x': 89},\n",
        "    {'First Name': 'Karan', 'Last Name': 'Kumar', 'x': 90},\n",
        "    {'First Name': 'Jade', 'Last Name': 'Canary', 'x': 45},\n",
        "    {'First Name': 'Raj', 'Last Name': 'Thakur', 'x': 62},\n",
        "    {'First Name': 'Raj', 'Last Name': 'Sharma', 'x': 34},\n",
        "    {'First Name': 'Kiran', 'Last Name': 'Kamla', 'x': 58},\n",
        "    {'First Name': 'Armaan', 'Last Name': 'Kumar', 'x': 71},\n",
        "    {'First Name': 'Jaya', 'Last Name': 'Sharma', 'x': 80},\n",
        "    {'First Name': 'Ingrid', 'Last Name': 'Galore', 'x': 53},\n",
        "    {'First Name': 'Jaya', 'Last Name': 'Seth', 'x': 67},\n",
        "    {'First Name': 'Armaan', 'Last Name': 'Dadra', 'x': 49},\n",
        "    {'First Name': 'Ingrid', 'Last Name': 'Maverick', 'x': 37},\n",
        "    {'First Name': 'Aahana', 'Last Name': 'Arora', 'x': 92}\n",
        "]\n",
        "keys=['First Name','Last Name','x']\n",
        "multilevel_selection_sort(\n",
        "        elements, keys)\n",
        "elements\n"
      ],
      "metadata": {
        "colab": {
          "base_uri": "https://localhost:8080/"
        },
        "id": "I4UXRhzDZ0lQ",
        "outputId": "794edb8a-3c90-4b46-eacd-617a360ac68e"
      },
      "execution_count": 43,
      "outputs": [
        {
          "output_type": "execute_result",
          "data": {
            "text/plain": [
              "[{'First Name': 'Aahana', 'Last Name': 'Arora', 'x': 92},\n",
              " {'First Name': 'Armaan', 'Last Name': 'Dadra', 'x': 49},\n",
              " {'First Name': 'Armaan', 'Last Name': 'Kumar', 'x': 71},\n",
              " {'First Name': 'Ingrid', 'Last Name': 'Galore', 'x': 53},\n",
              " {'First Name': 'Ingrid', 'Last Name': 'Maverick', 'x': 37},\n",
              " {'First Name': 'Jade', 'Last Name': 'Canary', 'x': 45},\n",
              " {'First Name': 'Jaya', 'Last Name': 'Seth', 'x': 67},\n",
              " {'First Name': 'Jaya', 'Last Name': 'Sharma', 'x': 80},\n",
              " {'First Name': 'Karan', 'Last Name': 'Kumar', 'x': 90},\n",
              " {'First Name': 'Kiran', 'Last Name': 'Kamla', 'x': 58},\n",
              " {'First Name': 'Raj', 'Last Name': 'Nayyar', 'x': 76},\n",
              " {'First Name': 'Raj', 'Last Name': 'Sharma', 'x': 34},\n",
              " {'First Name': 'Raj', 'Last Name': 'Thakur', 'x': 62},\n",
              " {'First Name': 'Suraj', 'Last Name': 'Sharma', 'x': 89}]"
            ]
          },
          "metadata": {},
          "execution_count": 43
        }
      ]
    },
    {
      "cell_type": "code",
      "source": [
        "def shell_sort(arr):\n",
        "    size = len(arr)\n",
        "    gap = size//2\n",
        "\n",
        "    while gap > 0:\n",
        "        for i in range(gap,size):\n",
        "            anchor = arr[i]\n",
        "            j = i\n",
        "            while j>=gap and arr[j-gap]>anchor:\n",
        "                arr[j] = arr[j-gap]\n",
        "                j -= gap\n",
        "            arr[j] = anchor\n",
        "        gap = gap // 2\n",
        "if __name__ == '__main__':\n",
        "    tests = [\n",
        "        [89, 78, 61, 53, 23, 21, 17, 12, 9, 7, 6, 2, 1],\n",
        "        [],\n",
        "        [1,5,8,9],\n",
        "        [234,3,1,56,34,12,9,12,1300],\n",
        "        [5]\n",
        "    ]\n",
        "    elements = [89,78,61,53,23,21,17,12,9,7,6,2,1]\n",
        "    for elements in tests:\n",
        "        shell_sort(elements)\n",
        "        print(elements)"
      ],
      "metadata": {
        "colab": {
          "base_uri": "https://localhost:8080/"
        },
        "id": "F114zpYzdvDn",
        "outputId": "cc47ad64-7ef5-4e1b-82e1-d72b9684176d"
      },
      "execution_count": 44,
      "outputs": [
        {
          "output_type": "stream",
          "name": "stdout",
          "text": [
            "[1, 2, 6, 7, 9, 12, 17, 21, 23, 53, 61, 78, 89]\n",
            "[]\n",
            "[1, 5, 8, 9]\n",
            "[1, 3, 9, 12, 12, 34, 56, 234, 1300]\n",
            "[5]\n"
          ]
        }
      ]
    },
    {
      "cell_type": "code",
      "source": [
        "arr=[1,291,1,29,12,73,98,182,517]\n",
        "selection_sort(arr,9)\n",
        "arr"
      ],
      "metadata": {
        "colab": {
          "base_uri": "https://localhost:8080/"
        },
        "id": "gfIoC1HmQv2u",
        "outputId": "27022adc-d56f-4395-bd08-492d2d401bdb"
      },
      "execution_count": 6,
      "outputs": [
        {
          "output_type": "execute_result",
          "data": {
            "text/plain": [
              "[1, 1, 12, 29, 73, 98, 182, 291, 517]"
            ]
          },
          "metadata": {},
          "execution_count": 6
        }
      ]
    },
    {
      "cell_type": "code",
      "source": [
        "elements=[\n",
        "    {'First Name': 'Raj', 'Last Name': 'Nayyar'},\n",
        "    {'First Name': 'Suraj', 'Last Name': 'Sharma'},\n",
        "    {'First Name': 'Karan', 'Last Name': 'Kumar'},\n",
        "    {'First Name': 'Jade', 'Last Name': 'Canary'},\n",
        "    {'First Name': 'Raj', 'Last Name': 'Thakur'},\n",
        "    {'First Name': 'Raj', 'Last Name': 'Sharma'},\n",
        "    {'First Name': 'Kiran', 'Last Name': 'Kamla'},\n",
        "    {'First Name': 'Armaan', 'Last Name': 'Kumar'},\n",
        "    {'First Name': 'Jaya', 'Last Name': 'Sharma'},\n",
        "    {'First Name': 'Ingrid', 'Last Name': 'Galore'},\n",
        "    {'First Name': 'Jaya', 'Last Name': 'Seth'},\n",
        "    {'First Name': 'Armaan', 'Last Name': 'Dadra'},\n",
        "    {'First Name': 'Ingrid', 'Last Name': 'Maverick'},\n",
        "    {'First Name': 'Aahana', 'Last Name': 'Arora'}\n",
        "]\n",
        "selection_sort(elements,14,key=\"First Name\")\n",
        "elements\n",
        "selection_sort(elements,14,key=\"Last Name\")\n",
        "elements\n"
      ],
      "metadata": {
        "colab": {
          "base_uri": "https://localhost:8080/"
        },
        "id": "VNdRYI94RFbG",
        "outputId": "764848db-239a-4778-8fb6-47ff63bff0e6"
      },
      "execution_count": 16,
      "outputs": [
        {
          "output_type": "execute_result",
          "data": {
            "text/plain": [
              "[{'First Name': 'Aahana', 'Last Name': 'Arora'},\n",
              " {'First Name': 'Armaan', 'Last Name': 'Dadra'},\n",
              " {'First Name': 'Armaan', 'Last Name': 'Kumar'},\n",
              " {'First Name': 'Ingrid', 'Last Name': 'Galore'},\n",
              " {'First Name': 'Ingrid', 'Last Name': 'Maverick'},\n",
              " {'First Name': 'Jade', 'Last Name': 'Canary'},\n",
              " {'First Name': 'Jaya', 'Last Name': 'Seth'},\n",
              " {'First Name': 'Jaya', 'Last Name': 'Sharma'},\n",
              " {'First Name': 'Karan', 'Last Name': 'Kumar'},\n",
              " {'First Name': 'Kiran', 'Last Name': 'Kamla'},\n",
              " {'First Name': 'Raj', 'Last Name': 'Nayyar'},\n",
              " {'First Name': 'Raj', 'Last Name': 'Sharma'},\n",
              " {'First Name': 'Raj', 'Last Name': 'Thakur'},\n",
              " {'First Name': 'Suraj', 'Last Name': 'Sharma'}]"
            ]
          },
          "metadata": {},
          "execution_count": 16
        }
      ]
    },
    {
      "cell_type": "code",
      "source": [
        "elements=[\n",
        "    {'First Name': 'Raj', 'Last Name': 'Nayyar','x':76},\n",
        "    {'First Name': 'Suraj', 'Last Name': 'Sharma','x':89},\n",
        "    {'First Name': 'Karan', 'Last Name': 'Kumar','x':90},\n",
        "    {'First Name': 'Jade', 'Last Name': 'Canary'},\n",
        "    {'First Name': 'Raj', 'Last Name': 'Thakur'},\n",
        "    {'First Name': 'Raj', 'Last Name': 'Sharma'},\n",
        "    {'First Name': 'Kiran', 'Last Name': 'Kamla'},\n",
        "    {'First Name': 'Armaan', 'Last Name': 'Kumar'},\n",
        "    {'First Name': 'Jaya', 'Last Name': 'Sharma'},\n",
        "    {'First Name': 'Ingrid', 'Last Name': 'Galore'},\n",
        "    {'First Name': 'Jaya', 'Last Name': 'Seth'},\n",
        "    {'First Name': 'Armaan', 'Last Name': 'Dadra'},\n",
        "    {'First Name': 'Ingrid', 'Last Name': 'Maverick'},\n",
        "    {'First Name': 'Aahana', 'Last Name': 'Arora'}\n",
        "]\n"
      ],
      "metadata": {
        "id": "hVShp-j9UZnm"
      },
      "execution_count": 27,
      "outputs": []
    },
    {
      "cell_type": "code",
      "source": [
        "elements = [\n",
        "    {'First Name': 'Raj', 'Last Name': 'Nayyar', 'x': 76},\n",
        "    {'First Name': 'Suraj', 'Last Name': 'Sharma', 'x': 89},\n",
        "    {'First Name': 'Karan', 'Last Name': 'Kumar', 'x': 90},\n",
        "    {'First Name': 'Jade', 'Last Name': 'Canary', 'x': 45},\n",
        "    {'First Name': 'Raj', 'Last Name': 'Thakur', 'x': 62},\n",
        "    {'First Name': 'Raj', 'Last Name': 'Sharma', 'x': 34},\n",
        "    {'First Name': 'Kiran', 'Last Name': 'Kamla', 'x': 58},\n",
        "    {'First Name': 'Armaan', 'Last Name': 'Kumar', 'x': 71},\n",
        "    {'First Name': 'Jaya', 'Last Name': 'Sharma', 'x': 80},\n",
        "    {'First Name': 'Ingrid', 'Last Name': 'Galore', 'x': 53},\n",
        "    {'First Name': 'Jaya', 'Last Name': 'Seth', 'x': 67},\n",
        "    {'First Name': 'Armaan', 'Last Name': 'Dadra', 'x': 49},\n",
        "    {'First Name': 'Ingrid', 'Last Name': 'Maverick', 'x': 37},\n",
        "    {'First Name': 'Aahana', 'Last Name': 'Arora', 'x': 92}\n",
        "]\n",
        "keys=['First Name','Last Name','x']\n",
        "for i in range(0,len(keys)):\n",
        "  print(i)\n",
        "  selection_sort(elements,14,i,keys)\n",
        "print(elements)"
      ],
      "metadata": {
        "colab": {
          "base_uri": "https://localhost:8080/"
        },
        "id": "3r5v26iVU16o",
        "outputId": "dd4f9cf4-20e6-4dea-e71b-39d9658862c1"
      },
      "execution_count": 35,
      "outputs": [
        {
          "output_type": "stream",
          "name": "stdout",
          "text": [
            "0\n",
            "1\n",
            "2\n",
            "[{'First Name': 'Aahana', 'Last Name': 'Arora', 'x': 92}, {'First Name': 'Jade', 'Last Name': 'Canary', 'x': 45}, {'First Name': 'Armaan', 'Last Name': 'Dadra', 'x': 49}, {'First Name': 'Ingrid', 'Last Name': 'Galore', 'x': 53}, {'First Name': 'Ingrid', 'Last Name': 'Maverick', 'x': 37}, {'First Name': 'Kiran', 'Last Name': 'Kamla', 'x': 58}, {'First Name': 'Jaya', 'Last Name': 'Seth', 'x': 67}, {'First Name': 'Armaan', 'Last Name': 'Kumar', 'x': 71}, {'First Name': 'Karan', 'Last Name': 'Kumar', 'x': 90}, {'First Name': 'Raj', 'Last Name': 'Nayyar', 'x': 76}, {'First Name': 'Raj', 'Last Name': 'Sharma', 'x': 34}, {'First Name': 'Raj', 'Last Name': 'Thakur', 'x': 62}, {'First Name': 'Jaya', 'Last Name': 'Sharma', 'x': 80}, {'First Name': 'Suraj', 'Last Name': 'Sharma', 'x': 89}]\n"
          ]
        }
      ]
    }
  ]
}