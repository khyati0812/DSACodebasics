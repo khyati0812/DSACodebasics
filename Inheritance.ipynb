{
  "nbformat": 4,
  "nbformat_minor": 0,
  "metadata": {
    "colab": {
      "provenance": [],
      "authorship_tag": "ABX9TyPGMuwueBbqmFLO2yhnCHjn",
      "include_colab_link": true
    },
    "kernelspec": {
      "name": "python3",
      "display_name": "Python 3"
    },
    "language_info": {
      "name": "python"
    }
  },
  "cells": [
    {
      "cell_type": "markdown",
      "metadata": {
        "id": "view-in-github",
        "colab_type": "text"
      },
      "source": [
        "<a href=\"https://colab.research.google.com/github/khyati0812/DSACodebasics/blob/main/Inheritance.ipynb\" target=\"_parent\"><img src=\"https://colab.research.google.com/assets/colab-badge.svg\" alt=\"Open In Colab\"/></a>"
      ]
    },
    {
      "cell_type": "code",
      "execution_count": 12,
      "metadata": {
        "id": "O8Z4jJYwBlxf"
      },
      "outputs": [],
      "source": [
        "class Animal():\n",
        "  def __init__(self,breed):\n",
        "    self.breed=breed\n",
        "  def habitat(self):\n",
        "    print(\"Habitat of base class\")"
      ]
    },
    {
      "cell_type": "code",
      "source": [
        "a=Animal(\"GS\")\n",
        "print(a.breed)\n",
        "a.habitat()\n"
      ],
      "metadata": {
        "colab": {
          "base_uri": "https://localhost:8080/"
        },
        "id": "o1xtANUWB-gl",
        "outputId": "2a9f5e76-002d-482d-ed48-4e44a2722e61"
      },
      "execution_count": 15,
      "outputs": [
        {
          "output_type": "stream",
          "name": "stdout",
          "text": [
            "GS\n",
            "Habitat of base class\n"
          ]
        }
      ]
    },
    {
      "cell_type": "code",
      "source": [
        "class Dog(Animal):\n",
        "  def __init__(self,breed,age):\n",
        "    self.age=age\n",
        "    Animal.__init__(self,breed)\n",
        "  def display(self):\n",
        "    print(\"Dog class\")\n",
        "    self.habitat()"
      ],
      "metadata": {
        "id": "h8MIw0NzD0yu"
      },
      "execution_count": 22,
      "outputs": []
    },
    {
      "cell_type": "code",
      "source": [],
      "metadata": {
        "id": "xrr7_OpKFyCL"
      },
      "execution_count": null,
      "outputs": []
    },
    {
      "cell_type": "code",
      "source": [
        "class Dog1(Animal):\n",
        "  def __init__(self,breed,age):\n",
        "    self.age=age\n",
        "    super().__init__(breed)\n",
        "  def display(self):\n",
        "    print(\"Dog class\")\n",
        "    self.habitat()"
      ],
      "metadata": {
        "id": "41SV-Fy0Fyn1"
      },
      "execution_count": 29,
      "outputs": []
    },
    {
      "cell_type": "code",
      "source": [
        "d1=Dog1(\"GL\",15)\n",
        "print(d1.age)\n",
        "print(d1.breed)\n",
        "d1.habitat()"
      ],
      "metadata": {
        "colab": {
          "base_uri": "https://localhost:8080/"
        },
        "id": "Ja6GSJGoF2fz",
        "outputId": "090c7e7d-6346-4b12-bb85-a3fbb1c42914"
      },
      "execution_count": 30,
      "outputs": [
        {
          "output_type": "stream",
          "name": "stdout",
          "text": [
            "15\n",
            "GL\n",
            "Habitat of base class\n"
          ]
        }
      ]
    },
    {
      "cell_type": "code",
      "source": [],
      "metadata": {
        "id": "5evHJcuRHL4O"
      },
      "execution_count": null,
      "outputs": []
    },
    {
      "cell_type": "code",
      "source": [
        "d=Dog(\"LS\",12)\n",
        "print(d.age)\n",
        "print(d.breed)\n",
        "d.display()"
      ],
      "metadata": {
        "colab": {
          "base_uri": "https://localhost:8080/"
        },
        "id": "JqnbZvKsEBx5",
        "outputId": "587418fa-1604-4f71-bf3a-620fa34a0ccf"
      },
      "execution_count": 24,
      "outputs": [
        {
          "output_type": "stream",
          "name": "stdout",
          "text": [
            "12\n",
            "LS\n",
            "Dog class\n",
            "Habitat of base class\n"
          ]
        }
      ]
    },
    {
      "cell_type": "code",
      "source": [
        "class Teacher():\n",
        "  def __init__(self,name,degree,profession,age=9):\n",
        "    self.name=name\n",
        "    self.degree=degree\n",
        "    self.profession=profession\n",
        "    self.age=age\n",
        "\n",
        "\n",
        "  def teaches(self):\n",
        "    print(f\"{self.profession} teaches and has degree {self.degree}. Name is {self.name} and age is {self.age}\")"
      ],
      "metadata": {
        "id": "sFI9TM32HMhS"
      },
      "execution_count": 39,
      "outputs": []
    },
    {
      "cell_type": "code",
      "source": [
        "t=Teacher(\"Khyati\",\"Bachelor\",\"Teacher\",21)\n",
        "t.teaches()"
      ],
      "metadata": {
        "colab": {
          "base_uri": "https://localhost:8080/"
        },
        "id": "P_b_waSwHogH",
        "outputId": "de175aa3-d734-4151-e4b8-cee268d7c2a2"
      },
      "execution_count": 40,
      "outputs": [
        {
          "output_type": "stream",
          "name": "stdout",
          "text": [
            "Teacher teaches and has degree Bachelor. Name is Khyati and age is 21\n"
          ]
        }
      ]
    },
    {
      "cell_type": "code",
      "source": [
        "class Student(Teacher):\n",
        "  def __init__(self,nameStud,degree,profession):\n",
        "    super().__init__(nameStud,degree,profession)\n",
        "\n",
        "  def display(self):\n",
        "    self.teaches()\n",
        "s=Student(\"Vidushi\",\"Masters\",\"Student\")\n",
        "s.display()\n"
      ],
      "metadata": {
        "colab": {
          "base_uri": "https://localhost:8080/"
        },
        "id": "uMSKQ-yDHz3h",
        "outputId": "1c08ebf0-412b-4bbd-e83f-10c3d69f0550"
      },
      "execution_count": 42,
      "outputs": [
        {
          "output_type": "stream",
          "name": "stdout",
          "text": [
            "Student teaches and has degree Masters. Name is Vidushi and age is 9\n"
          ]
        }
      ]
    },
    {
      "cell_type": "code",
      "source": [
        "class Youtuber():\n",
        "  def __init__(self,name):\n",
        "    self.name=name\n",
        "\n",
        "  def plays(self):\n",
        "    print(\"youtuber makes videos\")\n",
        "    print({self.name})"
      ],
      "metadata": {
        "id": "9uEJeuKEKDq2"
      },
      "execution_count": 51,
      "outputs": []
    },
    {
      "cell_type": "code",
      "source": [],
      "metadata": {
        "id": "QjqOUUC7KRcC"
      },
      "execution_count": null,
      "outputs": []
    },
    {
      "cell_type": "code",
      "source": [
        "class Student(Teacher,Youtuber):\n",
        "  def __init__(self,nameStud,degree,profession,name):\n",
        "    super().__init__(nameStud,degree,profession)\n",
        "    super(Teacher, self).__init__(name)\n",
        "  def display(self):\n",
        "    self.teaches()\n",
        "s=Student(\"Vidushi\",\"Masters\",\"Student\",\"Nishant Chahar\")\n",
        "s.display()\n",
        "s.plays()\n"
      ],
      "metadata": {
        "colab": {
          "base_uri": "https://localhost:8080/"
        },
        "outputId": "6c9f6a54-099e-49da-e482-d33e17190afa",
        "id": "6u9tx82jKRxa"
      },
      "execution_count": 53,
      "outputs": [
        {
          "output_type": "stream",
          "name": "stdout",
          "text": [
            "Student teaches and has degree Masters. Name is Nishant Chahar and age is 9\n",
            "youtuber makes videos\n",
            "{'Nishant Chahar'}\n"
          ]
        }
      ]
    },
    {
      "cell_type": "markdown",
      "source": [
        "[link text](https://)# IMPORTANT CONCEPT RELATED TO MULTIPLE INHERITANCE AND SUPER_ CONSTRUCTORS\n"
      ],
      "metadata": {
        "id": "h_l1PXH1Tdyf"
      }
    },
    {
      "cell_type": "code",
      "source": [
        "https://stackoverflow.com/questions/9575409/calling-parent-class-init-with-multiple-inheritance-whats-the-right-way"
      ],
      "metadata": {
        "colab": {
          "base_uri": "https://localhost:8080/",
          "height": 124
        },
        "id": "Qv6uVwEZTqn-",
        "outputId": "e4b12fbe-02a7-4ddc-824d-15ac36097323"
      },
      "execution_count": 54,
      "outputs": [
        {
          "output_type": "error",
          "ename": "SyntaxError",
          "evalue": "invalid syntax (<ipython-input-54-d11d77f7571a>, line 1)",
          "traceback": [
            "\u001b[0;36m  File \u001b[0;32m\"<ipython-input-54-d11d77f7571a>\"\u001b[0;36m, line \u001b[0;32m1\u001b[0m\n\u001b[0;31m    https://stackoverflow.com/questions/9575409/calling-parent-class-init-with-multiple-inheritance-whats-the-right-way\u001b[0m\n\u001b[0m          ^\u001b[0m\n\u001b[0;31mSyntaxError\u001b[0m\u001b[0;31m:\u001b[0m invalid syntax\n"
          ]
        }
      ]
    }
  ]
}